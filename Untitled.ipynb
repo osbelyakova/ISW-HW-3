{
 "cells": [
  {
   "cell_type": "code",
   "execution_count": 1,
   "metadata": {
    "scrolled": true
   },
   "outputs": [
    {
     "name": "stderr",
     "output_type": "stream",
     "text": [
      "C:\\Users\\osbel\\AppData\\Roaming\\Python\\Python37\\site-packages\\librosa\\core\\audio.py:146: UserWarning: PySoundFile failed. Trying audioread instead.\n",
      "  warnings.warn('PySoundFile failed. Trying audioread instead.')\n",
      "C:\\Users\\osbel\\AppData\\Roaming\\Python\\Python37\\site-packages\\librosa\\core\\audio.py:146: UserWarning: PySoundFile failed. Trying audioread instead.\n",
      "  warnings.warn('PySoundFile failed. Trying audioread instead.')\n"
     ]
    },
    {
     "name": "stdout",
     "output_type": "stream",
     "text": [
      "Time: 262.20221972465515\n"
     ]
    }
   ],
   "source": [
    "import numpy as np\n",
    "import librosa\n",
    "import os\n",
    "import time\n",
    "NULL_PATH = \"id00012\"\n",
    "def check_folder(new_path, our_folder):\n",
    "    for filename in os.listdir(new_path):\n",
    "        os.chdir(new_path)\n",
    "        if os.path.isdir(os.path.abspath(filename)):\n",
    "            new_folder = our_folder + '\\\\'\n",
    "            new_folder = new_folder + filename\n",
    "            os.makedirs(new_folder)\n",
    "            full_path = os.path.abspath(filename)\n",
    "            check_folder(full_path, new_folder)\n",
    "            continue\n",
    "        ext = filename[filename.rfind(\".\") + 1:]\n",
    "        if ext == 'm4a':\n",
    "            os.rename(filename, filename[0:filename.rfind(\".\") + 1:] + 'ogg')\n",
    "            filename = filename[0:filename.rfind(\".\") + 1:] + 'ogg'\n",
    "            ext = 'ogg'\n",
    "        if ext == 'ogg':\n",
    "            x , sr = librosa.load(os.path.abspath(filename))\n",
    "            mfcc = librosa.feature.mfcc(x, sr)\n",
    "            new_folder = our_folder + '\\\\'\n",
    "            new_folder = new_folder + filename\n",
    "            np.save(new_folder, mfcc)\n",
    "start_time = time.time()\n",
    "#os.chdir('C:\\\\Users\\\\osbel\\\\Desktop')\n",
    "answer = os.getcwd() + '\\\\test'\n",
    "os.mkdir(answer)\n",
    "check_folder(os.path.abspath(NULL_PATH), answer)\n",
    "print(\"Time: {}\".format(time.time() - start_time))"
   ]
  },
  {
   "cell_type": "code",
   "execution_count": null,
   "metadata": {},
   "outputs": [],
   "source": []
  },
  {
   "cell_type": "code",
   "execution_count": null,
   "metadata": {},
   "outputs": [],
   "source": []
  }
 ],
 "metadata": {
  "kernelspec": {
   "display_name": "Python 3",
   "language": "python",
   "name": "python3"
  },
  "language_info": {
   "codemirror_mode": {
    "name": "ipython",
    "version": 3
   },
   "file_extension": ".py",
   "mimetype": "text/x-python",
   "name": "python",
   "nbconvert_exporter": "python",
   "pygments_lexer": "ipython3",
   "version": "3.7.3"
  }
 },
 "nbformat": 4,
 "nbformat_minor": 2
}
